{
 "cells": [
  {
   "cell_type": "code",
   "execution_count": 1,
   "id": "a1e5dcf5",
   "metadata": {},
   "outputs": [],
   "source": [
    "import numpy as np\n",
    "import cv2"
   ]
  },
  {
   "cell_type": "code",
   "execution_count": 2,
   "id": "50600ad6",
   "metadata": {},
   "outputs": [],
   "source": [
    "with_mask = np.load('with_mask1.npy')\n",
    "without_mask = np.load('without_mask1.npy')"
   ]
  },
  {
   "cell_type": "code",
   "execution_count": 3,
   "id": "ba9baeaf",
   "metadata": {},
   "outputs": [
    {
     "data": {
      "text/plain": [
       "(200, 50, 50, 3)"
      ]
     },
     "execution_count": 3,
     "metadata": {},
     "output_type": "execute_result"
    }
   ],
   "source": [
    "with_mask.shape"
   ]
  },
  {
   "cell_type": "code",
   "execution_count": 4,
   "id": "d882c322",
   "metadata": {},
   "outputs": [
    {
     "data": {
      "text/plain": [
       "(200, 50, 50, 3)"
      ]
     },
     "execution_count": 4,
     "metadata": {},
     "output_type": "execute_result"
    }
   ],
   "source": [
    "without_mask.shape"
   ]
  },
  {
   "cell_type": "code",
   "execution_count": 5,
   "id": "bbd13618",
   "metadata": {},
   "outputs": [],
   "source": [
    "with_mask = with_mask.reshape(200,50*50*3)\n",
    "without_mask = without_mask.reshape(200,50*50*3)"
   ]
  },
  {
   "cell_type": "code",
   "execution_count": 6,
   "id": "2b18b59b",
   "metadata": {},
   "outputs": [
    {
     "data": {
      "text/plain": [
       "(200, 7500)"
      ]
     },
     "execution_count": 6,
     "metadata": {},
     "output_type": "execute_result"
    }
   ],
   "source": [
    "with_mask.shape"
   ]
  },
  {
   "cell_type": "code",
   "execution_count": 7,
   "id": "2d603c2e",
   "metadata": {},
   "outputs": [
    {
     "data": {
      "text/plain": [
       "(200, 7500)"
      ]
     },
     "execution_count": 7,
     "metadata": {},
     "output_type": "execute_result"
    }
   ],
   "source": [
    "without_mask.shape"
   ]
  },
  {
   "cell_type": "code",
   "execution_count": 8,
   "id": "47f927a7",
   "metadata": {},
   "outputs": [],
   "source": [
    "x = np.r_[with_mask, without_mask]"
   ]
  },
  {
   "cell_type": "code",
   "execution_count": 9,
   "id": "25a85cb9",
   "metadata": {},
   "outputs": [
    {
     "data": {
      "text/plain": [
       "(400, 7500)"
      ]
     },
     "execution_count": 9,
     "metadata": {},
     "output_type": "execute_result"
    }
   ],
   "source": [
    "x.shape"
   ]
  },
  {
   "cell_type": "code",
   "execution_count": 10,
   "id": "3158556b",
   "metadata": {},
   "outputs": [],
   "source": [
    "labels = np.zeros(x.shape[0])"
   ]
  },
  {
   "cell_type": "code",
   "execution_count": 11,
   "id": "3a3f571d",
   "metadata": {},
   "outputs": [],
   "source": [
    "labels[200:]=1.0"
   ]
  },
  {
   "cell_type": "code",
   "execution_count": 12,
   "id": "48778e5f",
   "metadata": {},
   "outputs": [],
   "source": [
    "names = {0 : 'mask', 1 : 'no mask'}"
   ]
  },
  {
   "cell_type": "code",
   "execution_count": 13,
   "id": "e5499dbf",
   "metadata": {},
   "outputs": [],
   "source": [
    "# svm - support vector machine\n",
    "# svc - support vector classification\n",
    "from sklearn.svm import SVC\n",
    "from sklearn.metrics import accuracy_score\n",
    "from sklearn.model_selection import train_test_split"
   ]
  },
  {
   "cell_type": "code",
   "execution_count": 14,
   "id": "a2a7bd1c",
   "metadata": {},
   "outputs": [],
   "source": [
    "x_train, x_test, y_train, y_test   = train_test_split(x, labels, test_size=0.25)"
   ]
  },
  {
   "cell_type": "code",
   "execution_count": 15,
   "id": "bea168d1",
   "metadata": {},
   "outputs": [
    {
     "data": {
      "text/plain": [
       "(300, 7500)"
      ]
     },
     "execution_count": 15,
     "metadata": {},
     "output_type": "execute_result"
    }
   ],
   "source": [
    "x_train.shape"
   ]
  },
  {
   "cell_type": "code",
   "execution_count": 16,
   "id": "30d27182",
   "metadata": {},
   "outputs": [],
   "source": [
    "# pca - principal component analysis\n",
    "from sklearn.decomposition import PCA"
   ]
  },
  {
   "cell_type": "code",
   "execution_count": 17,
   "id": "bf5c315d",
   "metadata": {},
   "outputs": [],
   "source": [
    "pca = PCA(n_components = 3)\n",
    "x_train = pca.fit_transform(x_train)"
   ]
  },
  {
   "cell_type": "code",
   "execution_count": 18,
   "id": "3be62bd2",
   "metadata": {},
   "outputs": [
    {
     "data": {
      "text/plain": [
       "array([6226.22173144, -220.63042822, -172.01710712])"
      ]
     },
     "execution_count": 18,
     "metadata": {},
     "output_type": "execute_result"
    }
   ],
   "source": [
    "x_train[0]"
   ]
  },
  {
   "cell_type": "code",
   "execution_count": 19,
   "id": "2b165375",
   "metadata": {
    "scrolled": true
   },
   "outputs": [
    {
     "data": {
      "text/plain": [
       "(300, 3)"
      ]
     },
     "execution_count": 19,
     "metadata": {},
     "output_type": "execute_result"
    }
   ],
   "source": [
    "x_train.shape"
   ]
  },
  {
   "cell_type": "code",
   "execution_count": 20,
   "id": "7edfbd3d",
   "metadata": {},
   "outputs": [
    {
     "data": {
      "text/plain": [
       "SVC()"
      ]
     },
     "execution_count": 20,
     "metadata": {},
     "output_type": "execute_result"
    }
   ],
   "source": [
    "svm = SVC()\n",
    "svm.fit(x_train, y_train)"
   ]
  },
  {
   "cell_type": "code",
   "execution_count": 21,
   "id": "6cf62acd",
   "metadata": {
    "scrolled": true
   },
   "outputs": [],
   "source": [
    "x_test = pca.transform(x_test)\n",
    "y_pred = svm.predict(x_test)"
   ]
  },
  {
   "cell_type": "code",
   "execution_count": 22,
   "id": "6cb8f6a4",
   "metadata": {},
   "outputs": [
    {
     "data": {
      "text/plain": [
       "0.88"
      ]
     },
     "execution_count": 22,
     "metadata": {},
     "output_type": "execute_result"
    }
   ],
   "source": [
    "accuracy_score(y_test, y_pred)"
   ]
  },
  {
   "cell_type": "code",
   "execution_count": 24,
   "id": "3835dc10",
   "metadata": {},
   "outputs": [
    {
     "name": "stdout",
     "output_type": "stream",
     "text": [
      "mask\n",
      "mask\n",
      "no mask\n",
      "mask\n",
      "mask\n",
      "mask\n",
      "mask\n",
      "mask\n",
      "mask\n",
      "mask\n",
      "mask\n",
      "no mask\n",
      "no mask\n",
      "no mask\n",
      "no mask\n",
      "mask\n",
      "mask\n",
      "mask\n",
      "mask\n",
      "mask\n",
      "mask\n",
      "mask\n",
      "mask\n",
      "mask\n",
      "mask\n",
      "mask\n",
      "mask\n",
      "mask\n",
      "mask\n",
      "mask\n",
      "mask\n",
      "mask\n",
      "mask\n",
      "mask\n",
      "mask\n",
      "mask\n",
      "mask\n",
      "mask\n",
      "mask\n",
      "mask\n",
      "mask\n",
      "mask\n",
      "mask\n",
      "mask\n",
      "mask\n",
      "mask\n",
      "mask\n",
      "mask\n",
      "mask\n",
      "mask\n",
      "mask\n",
      "mask\n",
      "mask\n",
      "mask\n",
      "mask\n",
      "mask\n",
      "mask\n",
      "mask\n",
      "mask\n",
      "mask\n",
      "mask\n",
      "mask\n",
      "mask\n",
      "no mask\n",
      "no mask\n",
      "no mask\n",
      "no mask\n",
      "no mask\n",
      "no mask\n",
      "mask\n",
      "no mask\n",
      "no mask\n",
      "no mask\n",
      "no mask\n",
      "no mask\n",
      "no mask\n",
      "no mask\n",
      "no mask\n",
      "no mask\n",
      "no mask\n",
      "no mask\n",
      "no mask\n",
      "no mask\n",
      "no mask\n",
      "no mask\n",
      "no mask\n",
      "no mask\n",
      "no mask\n",
      "no mask\n",
      "no mask\n",
      "no mask\n",
      "no mask\n",
      "no mask\n",
      "no mask\n",
      "no mask\n",
      "no mask\n",
      "no mask\n",
      "no mask\n",
      "no mask\n",
      "no mask\n",
      "no mask\n",
      "no mask\n",
      "no mask\n",
      "no mask\n",
      "no mask\n",
      "no mask\n",
      "no mask\n",
      "no mask\n",
      "no mask\n",
      "no mask\n",
      "no mask\n",
      "no mask\n",
      "no mask\n",
      "mask\n",
      "no mask\n",
      "no mask\n",
      "no mask\n",
      "no mask\n",
      "no mask\n",
      "no mask\n",
      "no mask\n",
      "no mask\n",
      "no mask\n",
      "no mask\n",
      "no mask\n",
      "no mask\n",
      "no mask\n",
      "no mask\n",
      "no mask\n",
      "no mask\n",
      "no mask\n",
      "no mask\n",
      "no mask\n",
      "no mask\n",
      "no mask\n",
      "no mask\n",
      "no mask\n",
      "no mask\n",
      "no mask\n",
      "no mask\n",
      "no mask\n",
      "no mask\n",
      "no mask\n",
      "no mask\n",
      "no mask\n",
      "no mask\n",
      "no mask\n",
      "no mask\n"
     ]
    }
   ],
   "source": [
    "haar_data = cv2.CascadeClassifier(cv2.data.haarcascades+'haarcascade_frontalface_default.xml')\n",
    "capture = cv2.VideoCapture(0)\n",
    "\n",
    "font = cv2.FONT_HERSHEY_COMPLEX\n",
    "while True:\n",
    "    flag, img = capture.read()\n",
    "    if flag:\n",
    "        faces = haar_data.detectMultiScale(img)\n",
    "        for x,y,w,h in faces:\n",
    "            cv2.rectangle(img,(x,y),(x+w,y+h),(255,0,255),4)\n",
    "            face = img[y:y+h , x:x+w, :]\n",
    "            face = cv2.resize(face,(50,50))\n",
    "            face = face.reshape(1,-1)\n",
    "            face = pca.transform(face)\n",
    "            pred = svm.predict(face)[0]\n",
    "            n = names[int(pred)]\n",
    "            cv2.putText(img,n,(x,y),font,1,(0,255,0),2)\n",
    "            print(n)\n",
    "        cv2.imshow('result',img)\n",
    "        if cv2.waitKey(1)==27:\n",
    "            break\n",
    "capture.release()\n",
    "cv2.destroyAllWindows()"
   ]
  },
  {
   "cell_type": "code",
   "execution_count": null,
   "id": "bfb731fd",
   "metadata": {},
   "outputs": [],
   "source": []
  }
 ],
 "metadata": {
  "kernelspec": {
   "display_name": "Python 3 (ipykernel)",
   "language": "python",
   "name": "python3"
  },
  "language_info": {
   "codemirror_mode": {
    "name": "ipython",
    "version": 3
   },
   "file_extension": ".py",
   "mimetype": "text/x-python",
   "name": "python",
   "nbconvert_exporter": "python",
   "pygments_lexer": "ipython3",
   "version": "3.8.3"
  }
 },
 "nbformat": 4,
 "nbformat_minor": 5
}
